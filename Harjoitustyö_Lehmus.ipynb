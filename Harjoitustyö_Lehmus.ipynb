{
 "cells": [
  {
   "cell_type": "markdown",
   "metadata": {},
   "source": [
    "# Harjoitustyö, TLO-32410 Johdanto datatieteeseen"
   ]
  },
  {
   "cell_type": "markdown",
   "metadata": {},
   "source": [
    "Aleksi Lehmus, aleksi.lehmus@tuni.fi"
   ]
  },
  {
   "cell_type": "markdown",
   "metadata": {},
   "source": [
    "## Yleistä"
   ]
  },
  {
   "cell_type": "markdown",
   "metadata": {},
   "source": [
    "Tässä harjoitustyössä käsittelen viimeisen vuoden aikana toteutuneita asuntokauppoja Tampereella ja pyrin ennustamaan reiluja hintoja uusille myytäville kohteille."
   ]
  },
  {
   "cell_type": "code",
   "execution_count": 572,
   "metadata": {},
   "outputs": [],
   "source": [
    "import pandas as pd\n",
    "import matplotlib.pyplot as plt\n",
    "import numpy as np\n",
    "from collections import Counter\n",
    "from sklearn.model_selection import train_test_split\n",
    "from sklearn.svm import SVC\n",
    "from sklearn.metrics import classification_report, confusion_matrix\n",
    "from sklearn.linear_model import LinearRegression\n",
    "from sklearn.neural_network import MLPRegressor"
   ]
  },
  {
   "cell_type": "markdown",
   "metadata": {},
   "source": [
    "Ladataan Scrapylla kerätty datasetti käsiteltäväksi"
   ]
  },
  {
   "cell_type": "code",
   "execution_count": 573,
   "metadata": {},
   "outputs": [],
   "source": [
    "data = pd.read_csv(\"out.csv\")"
   ]
  },
  {
   "cell_type": "markdown",
   "metadata": {},
   "source": [
    "## Datan jalostaminen"
   ]
  },
  {
   "cell_type": "code",
   "execution_count": 574,
   "metadata": {},
   "outputs": [
    {
     "data": {
      "text/html": [
       "<div>\n",
       "<style scoped>\n",
       "    .dataframe tbody tr th:only-of-type {\n",
       "        vertical-align: middle;\n",
       "    }\n",
       "\n",
       "    .dataframe tbody tr th {\n",
       "        vertical-align: top;\n",
       "    }\n",
       "\n",
       "    .dataframe thead th {\n",
       "        text-align: right;\n",
       "    }\n",
       "</style>\n",
       "<table border=\"1\" class=\"dataframe\">\n",
       "  <thead>\n",
       "    <tr style=\"text-align: right;\">\n",
       "      <th></th>\n",
       "      <th>Kaupunginosa</th>\n",
       "      <th>Huoneisto</th>\n",
       "      <th>Talotyyppi</th>\n",
       "      <th>Neliömäärä</th>\n",
       "      <th>Velaton hinta</th>\n",
       "      <th>Euroa per neliö</th>\n",
       "      <th>Rakennusvuosi</th>\n",
       "      <th>Kerros</th>\n",
       "      <th>Hissi</th>\n",
       "      <th>Kunto</th>\n",
       "      <th>Energialuokka</th>\n",
       "    </tr>\n",
       "  </thead>\n",
       "  <tbody>\n",
       "    <tr>\n",
       "      <th>0</th>\n",
       "      <td>Tasanne</td>\n",
       "      <td>autop. katoksessa</td>\n",
       "      <td>kt</td>\n",
       "      <td>1,00</td>\n",
       "      <td>6000</td>\n",
       "      <td>6000</td>\n",
       "      <td>2019</td>\n",
       "      <td>1/1</td>\n",
       "      <td>ei</td>\n",
       "      <td>hyvä</td>\n",
       "      <td>A</td>\n",
       "    </tr>\n",
       "    <tr>\n",
       "      <th>1</th>\n",
       "      <td>Ristinarkku</td>\n",
       "      <td>1h,k</td>\n",
       "      <td>kt</td>\n",
       "      <td>28,00</td>\n",
       "      <td>133800</td>\n",
       "      <td>4779</td>\n",
       "      <td>2019</td>\n",
       "      <td>4/7</td>\n",
       "      <td>on</td>\n",
       "      <td>hyvä</td>\n",
       "      <td>C,2013</td>\n",
       "    </tr>\n",
       "    <tr>\n",
       "      <th>2</th>\n",
       "      <td>Hervanta</td>\n",
       "      <td>1 h, keittokome...</td>\n",
       "      <td>kt</td>\n",
       "      <td>35,50</td>\n",
       "      <td>96000</td>\n",
       "      <td>2704</td>\n",
       "      <td>1985</td>\n",
       "      <td>1/6</td>\n",
       "      <td>on</td>\n",
       "      <td>hyvä</td>\n",
       "      <td>NaN</td>\n",
       "    </tr>\n",
       "    <tr>\n",
       "      <th>3</th>\n",
       "      <td>Kaakinmaa</td>\n",
       "      <td>Autohalli</td>\n",
       "      <td>kt</td>\n",
       "      <td>13,00</td>\n",
       "      <td>30000</td>\n",
       "      <td>2308</td>\n",
       "      <td>2018</td>\n",
       "      <td>-1/10</td>\n",
       "      <td>on</td>\n",
       "      <td>hyvä</td>\n",
       "      <td>C</td>\n",
       "    </tr>\n",
       "    <tr>\n",
       "      <th>4</th>\n",
       "      <td>Lentävänniemi</td>\n",
       "      <td>AUTOKATOS</td>\n",
       "      <td>kt</td>\n",
       "      <td>20,00</td>\n",
       "      <td>4500</td>\n",
       "      <td>225</td>\n",
       "      <td>2019</td>\n",
       "      <td>1/6</td>\n",
       "      <td>on</td>\n",
       "      <td>hyvä</td>\n",
       "      <td>C,2013</td>\n",
       "    </tr>\n",
       "  </tbody>\n",
       "</table>\n",
       "</div>"
      ],
      "text/plain": [
       "    Kaupunginosa           Huoneisto Talotyyppi Neliömäärä  Velaton hinta  \\\n",
       "0        Tasanne   autop. katoksessa         kt       1,00           6000   \n",
       "1    Ristinarkku                1h,k         kt      28,00         133800   \n",
       "2       Hervanta  1 h, keittokome...         kt      35,50          96000   \n",
       "3      Kaakinmaa           Autohalli         kt      13,00          30000   \n",
       "4  Lentävänniemi           AUTOKATOS         kt      20,00           4500   \n",
       "\n",
       "   Euroa per neliö  Rakennusvuosi Kerros Hissi Kunto Energialuokka  \n",
       "0             6000           2019    1/1    ei  hyvä             A  \n",
       "1             4779           2019    4/7    on  hyvä        C,2013  \n",
       "2             2704           1985    1/6    on  hyvä           NaN  \n",
       "3             2308           2018  -1/10    on  hyvä             C  \n",
       "4              225           2019    1/6    on  hyvä        C,2013  "
      ]
     },
     "execution_count": 574,
     "metadata": {},
     "output_type": "execute_result"
    }
   ],
   "source": [
    "data.head()"
   ]
  },
  {
   "cell_type": "code",
   "execution_count": 575,
   "metadata": {},
   "outputs": [
    {
     "name": "stdout",
     "output_type": "stream",
     "text": [
      "<class 'pandas.core.frame.DataFrame'>\n",
      "RangeIndex: 1271 entries, 0 to 1270\n",
      "Data columns (total 11 columns):\n",
      "Kaupunginosa       1271 non-null object\n",
      "Huoneisto          1269 non-null object\n",
      "Talotyyppi         1271 non-null object\n",
      "Neliömäärä         1271 non-null object\n",
      "Velaton hinta      1271 non-null int64\n",
      "Euroa per neliö    1271 non-null int64\n",
      "Rakennusvuosi      1271 non-null int64\n",
      "Kerros             1271 non-null object\n",
      "Hissi              1271 non-null object\n",
      "Kunto              1271 non-null object\n",
      "Energialuokka      926 non-null object\n",
      "dtypes: int64(3), object(8)\n",
      "memory usage: 109.3+ KB\n"
     ]
    }
   ],
   "source": [
    "data.info()"
   ]
  },
  {
   "cell_type": "markdown",
   "metadata": {},
   "source": [
    "Muutetaan lukuarvoksi ja poistetaan alle 10 neliön kaupat"
   ]
  },
  {
   "cell_type": "code",
   "execution_count": 576,
   "metadata": {},
   "outputs": [],
   "source": [
    "data[\"Neliömäärä\"] = data[\"Neliömäärä\"].apply(lambda x: None if float(x.replace(\",\", \".\")) < 10 \n",
    "                                              else float(x.replace(\",\", \".\")))\n",
    "data = data[data[\"Neliömäärä\"].notnull()]"
   ]
  },
  {
   "cell_type": "markdown",
   "metadata": {},
   "source": [
    "Poistetaan Energialuokka piirteenä sen monimutkaisen esitystavan vuoksi"
   ]
  },
  {
   "cell_type": "code",
   "execution_count": 577,
   "metadata": {},
   "outputs": [],
   "source": [
    "data.drop(\"Energialuokka\", axis=1, inplace=True)"
   ]
  },
  {
   "cell_type": "markdown",
   "metadata": {},
   "source": [
    "Poistetaan datasetistä helposti tunnistettavat autopaikkakaupat"
   ]
  },
  {
   "cell_type": "code",
   "execution_count": 578,
   "metadata": {},
   "outputs": [],
   "source": [
    "data[\"Huoneisto\"] = data[\"Huoneisto\"].apply(lambda x: None if \"auto\" in str(x).lower() else str(x))\n",
    "data = data[data[\"Huoneisto\"].notnull()]"
   ]
  },
  {
   "cell_type": "markdown",
   "metadata": {},
   "source": [
    "Tehdään hissistä binäärimuuttuja"
   ]
  },
  {
   "cell_type": "code",
   "execution_count": 579,
   "metadata": {},
   "outputs": [],
   "source": [
    "data[\"Hissi\"] = data[\"Hissi\"].apply(lambda x: 1 if str(x) == \"on\" else 0)"
   ]
  },
  {
   "cell_type": "markdown",
   "metadata": {},
   "source": [
    "Huomataan, että asunnon kunto sisältää paljon tyhjiä arvoja. Muutetaan arvot numeerisiksi"
   ]
  },
  {
   "cell_type": "code",
   "execution_count": 580,
   "metadata": {},
   "outputs": [
    {
     "data": {
      "text/plain": [
       "Counter({'hyvä': 986, '\\xa0': 116, 'tyyd.': 127, 'huono': 11})"
      ]
     },
     "execution_count": 580,
     "metadata": {},
     "output_type": "execute_result"
    }
   ],
   "source": [
    "Counter(data[\"Kunto\"])"
   ]
  },
  {
   "cell_type": "code",
   "execution_count": 581,
   "metadata": {},
   "outputs": [],
   "source": [
    "data[\"Kunto\"] = data[\"Kunto\"].apply(lambda x: 1 if str(x) == \"hyvä\" \n",
    "                                    else (2 if str(x) == \"tyyd.\" else (3 if str(x) == \"huono\" else 0)))"
   ]
  },
  {
   "cell_type": "markdown",
   "metadata": {},
   "source": [
    "Poistetaan rivit, joilla ei ole kerrostietoa. Luodaan riveille uusi muuttuja esittämään suhteellinen kerrosluku"
   ]
  },
  {
   "cell_type": "code",
   "execution_count": 582,
   "metadata": {},
   "outputs": [],
   "source": [
    "data = data[data[\"Kerros\"] != \"\\xa0\"]"
   ]
  },
  {
   "cell_type": "code",
   "execution_count": 583,
   "metadata": {},
   "outputs": [],
   "source": [
    "def add_kerros_suht(row):\n",
    "    kerros = str(row[\"Kerros\"]).split(\"/\")[0]\n",
    "    kerrosmäärä = str(row[\"Kerros\"]).split(\"/\")[1]\n",
    "    if int(kerros) in [-1, 0, 1]:\n",
    "        row[\"Kerros_suht\"] = \"Alin kerros\"\n",
    "    elif kerros == kerrosmäärä:\n",
    "        row[\"Kerros_suht\"] = \"Ylin kerros\"\n",
    "    else:\n",
    "        row[\"Kerros_suht\"] = \"Keskikerros\"\n",
    "        \n",
    "    return row\n",
    "\n",
    "data = data.apply((lambda x: add_kerros_suht(x)), axis=1)"
   ]
  },
  {
   "cell_type": "code",
   "execution_count": 584,
   "metadata": {},
   "outputs": [],
   "source": [
    "data = pd.concat([data, pd.get_dummies(data[\"Kerros_suht\"])], axis=1)"
   ]
  },
  {
   "cell_type": "code",
   "execution_count": 585,
   "metadata": {},
   "outputs": [],
   "source": [
    "data.drop(\"Kerros_suht\", axis=1, inplace=True)"
   ]
  },
  {
   "cell_type": "markdown",
   "metadata": {},
   "source": [
    "Muokataan kerrostieto absoluuttiseksi kerrosluvuksi, jotta sitä voidaan käsitellä numeerisesti"
   ]
  },
  {
   "cell_type": "code",
   "execution_count": 586,
   "metadata": {},
   "outputs": [],
   "source": [
    "data[\"Kerros\"] = data[\"Kerros\"].apply(lambda x: str(x).split(\"/\")[0])\n",
    "data[\"Kerros\"] = data[\"Kerros\"].apply(lambda x: int(x))"
   ]
  },
  {
   "cell_type": "code",
   "execution_count": 587,
   "metadata": {},
   "outputs": [],
   "source": [
    "data.dropna(inplace=True)"
   ]
  },
  {
   "cell_type": "markdown",
   "metadata": {},
   "source": [
    "Datasetti näyttää nyt suunnilleen toivotulta"
   ]
  },
  {
   "cell_type": "code",
   "execution_count": 588,
   "metadata": {
    "scrolled": true
   },
   "outputs": [
    {
     "data": {
      "text/html": [
       "<div>\n",
       "<style scoped>\n",
       "    .dataframe tbody tr th:only-of-type {\n",
       "        vertical-align: middle;\n",
       "    }\n",
       "\n",
       "    .dataframe tbody tr th {\n",
       "        vertical-align: top;\n",
       "    }\n",
       "\n",
       "    .dataframe thead th {\n",
       "        text-align: right;\n",
       "    }\n",
       "</style>\n",
       "<table border=\"1\" class=\"dataframe\">\n",
       "  <thead>\n",
       "    <tr style=\"text-align: right;\">\n",
       "      <th></th>\n",
       "      <th>Kaupunginosa</th>\n",
       "      <th>Huoneisto</th>\n",
       "      <th>Talotyyppi</th>\n",
       "      <th>Neliömäärä</th>\n",
       "      <th>Velaton hinta</th>\n",
       "      <th>Euroa per neliö</th>\n",
       "      <th>Rakennusvuosi</th>\n",
       "      <th>Kerros</th>\n",
       "      <th>Hissi</th>\n",
       "      <th>Kunto</th>\n",
       "      <th>Alin kerros</th>\n",
       "      <th>Keskikerros</th>\n",
       "      <th>Ylin kerros</th>\n",
       "    </tr>\n",
       "  </thead>\n",
       "  <tbody>\n",
       "    <tr>\n",
       "      <th>1</th>\n",
       "      <td>Ristinarkku</td>\n",
       "      <td>1h,k</td>\n",
       "      <td>kt</td>\n",
       "      <td>28.0</td>\n",
       "      <td>133800</td>\n",
       "      <td>4779</td>\n",
       "      <td>2019</td>\n",
       "      <td>4</td>\n",
       "      <td>1</td>\n",
       "      <td>1</td>\n",
       "      <td>0</td>\n",
       "      <td>1</td>\n",
       "      <td>0</td>\n",
       "    </tr>\n",
       "    <tr>\n",
       "      <th>2</th>\n",
       "      <td>Hervanta</td>\n",
       "      <td>1 h, keittokome...</td>\n",
       "      <td>kt</td>\n",
       "      <td>35.5</td>\n",
       "      <td>96000</td>\n",
       "      <td>2704</td>\n",
       "      <td>1985</td>\n",
       "      <td>1</td>\n",
       "      <td>1</td>\n",
       "      <td>1</td>\n",
       "      <td>1</td>\n",
       "      <td>0</td>\n",
       "      <td>0</td>\n",
       "    </tr>\n",
       "    <tr>\n",
       "      <th>5</th>\n",
       "      <td>Tesoma</td>\n",
       "      <td>1H+KT+parvi 5,5 m²</td>\n",
       "      <td>kt</td>\n",
       "      <td>20.5</td>\n",
       "      <td>118000</td>\n",
       "      <td>5756</td>\n",
       "      <td>2018</td>\n",
       "      <td>6</td>\n",
       "      <td>1</td>\n",
       "      <td>1</td>\n",
       "      <td>0</td>\n",
       "      <td>0</td>\n",
       "      <td>1</td>\n",
       "    </tr>\n",
       "    <tr>\n",
       "      <th>6</th>\n",
       "      <td>Niemenranta</td>\n",
       "      <td>1h,tk,alk</td>\n",
       "      <td>kt</td>\n",
       "      <td>33.0</td>\n",
       "      <td>139000</td>\n",
       "      <td>4212</td>\n",
       "      <td>2015</td>\n",
       "      <td>6</td>\n",
       "      <td>1</td>\n",
       "      <td>1</td>\n",
       "      <td>0</td>\n",
       "      <td>1</td>\n",
       "      <td>0</td>\n",
       "    </tr>\n",
       "    <tr>\n",
       "      <th>7</th>\n",
       "      <td>Tesoma</td>\n",
       "      <td>h, kt, kph, las...</td>\n",
       "      <td>kt</td>\n",
       "      <td>23.0</td>\n",
       "      <td>96000</td>\n",
       "      <td>4174</td>\n",
       "      <td>2018</td>\n",
       "      <td>4</td>\n",
       "      <td>1</td>\n",
       "      <td>1</td>\n",
       "      <td>0</td>\n",
       "      <td>1</td>\n",
       "      <td>0</td>\n",
       "    </tr>\n",
       "  </tbody>\n",
       "</table>\n",
       "</div>"
      ],
      "text/plain": [
       "  Kaupunginosa           Huoneisto Talotyyppi  Neliömäärä  Velaton hinta  \\\n",
       "1  Ristinarkku                1h,k         kt        28.0         133800   \n",
       "2     Hervanta  1 h, keittokome...         kt        35.5          96000   \n",
       "5       Tesoma  1H+KT+parvi 5,5 m²         kt        20.5         118000   \n",
       "6  Niemenranta           1h,tk,alk         kt        33.0         139000   \n",
       "7       Tesoma  h, kt, kph, las...         kt        23.0          96000   \n",
       "\n",
       "   Euroa per neliö  Rakennusvuosi  Kerros  Hissi  Kunto  Alin kerros  \\\n",
       "1             4779           2019       4      1      1            0   \n",
       "2             2704           1985       1      1      1            1   \n",
       "5             5756           2018       6      1      1            0   \n",
       "6             4212           2015       6      1      1            0   \n",
       "7             4174           2018       4      1      1            0   \n",
       "\n",
       "   Keskikerros  Ylin kerros  \n",
       "1            1            0  \n",
       "2            0            0  \n",
       "5            0            1  \n",
       "6            1            0  \n",
       "7            1            0  "
      ]
     },
     "execution_count": 588,
     "metadata": {},
     "output_type": "execute_result"
    }
   ],
   "source": [
    "data.head()"
   ]
  },
  {
   "cell_type": "markdown",
   "metadata": {},
   "source": [
    "## Kunnon ennustaminen"
   ]
  },
  {
   "cell_type": "markdown",
   "metadata": {},
   "source": [
    "Oletetaan kunnon vaikuttavan ratkaisevasti asunnon hintaan, eikä haluta poistaa yli sataa riviä, joilla kuntoa ei ole kerrottu. Joten ennustetaan myydyn asunnon oletettu kunto muiden toteutuneiden kauppojen perusteella."
   ]
  },
  {
   "cell_type": "code",
   "execution_count": 589,
   "metadata": {},
   "outputs": [
    {
     "data": {
      "text/plain": [
       "Counter({1: 983, 0: 116, 2: 124, 3: 11})"
      ]
     },
     "execution_count": 589,
     "metadata": {},
     "output_type": "execute_result"
    }
   ],
   "source": [
    "Counter(data[\"Kunto\"])"
   ]
  },
  {
   "cell_type": "markdown",
   "metadata": {},
   "source": [
    "Valitaan merkittäviksi koetut attribuutit uuteen datasettiin, josta erotellaan opetusdataksi kaikki rivit, joissa kunto on, ja kohdedataksi kunnottomat"
   ]
  },
  {
   "cell_type": "code",
   "execution_count": 590,
   "metadata": {},
   "outputs": [],
   "source": [
    "data2 = data[[\"Euroa per neliö\", \"Rakennusvuosi\", \"Hissi\", \"Kerros\", \"Kunto\"]]"
   ]
  },
  {
   "cell_type": "code",
   "execution_count": 591,
   "metadata": {},
   "outputs": [],
   "source": [
    "data_learn = data2[data2[\"Kunto\"] != 0]\n",
    "data_target = data2[data2[\"Kunto\"] == 0]"
   ]
  },
  {
   "cell_type": "markdown",
   "metadata": {},
   "source": [
    "Valitaan X = selittävät ominaisuudet ja y = ennustettava ominaisuus (kunto)"
   ]
  },
  {
   "cell_type": "code",
   "execution_count": 592,
   "metadata": {},
   "outputs": [],
   "source": [
    "X = data_learn.drop(\"Kunto\", axis=1)\n",
    "y = data_learn[\"Kunto\"]"
   ]
  },
  {
   "cell_type": "markdown",
   "metadata": {},
   "source": [
    "Normalisoidaan numeeriset muuttujat"
   ]
  },
  {
   "cell_type": "code",
   "execution_count": 593,
   "metadata": {},
   "outputs": [],
   "source": [
    "def normalize(data):\n",
    "    dataMean = np.mean(data, axis=0)\n",
    "    dataDev = np.std(data, axis=0)\n",
    "    norm_x = (data - dataMean) / dataDev\n",
    "    return norm_x"
   ]
  },
  {
   "cell_type": "code",
   "execution_count": 594,
   "metadata": {},
   "outputs": [],
   "source": [
    "X_norm = normalize(X)"
   ]
  },
  {
   "cell_type": "code",
   "execution_count": 595,
   "metadata": {},
   "outputs": [],
   "source": [
    "X_train, X_test, y_train, y_test = train_test_split(X_norm, y, test_size=0.20, random_state=42)"
   ]
  },
  {
   "cell_type": "markdown",
   "metadata": {},
   "source": [
    "Valitaan scikit-learnin Cheat Sheetin suosittelemana SVC luokittelumalliksi ja opetetaan se harjoitusdatalla"
   ]
  },
  {
   "cell_type": "code",
   "execution_count": 596,
   "metadata": {},
   "outputs": [],
   "source": [
    "model = SVC()"
   ]
  },
  {
   "cell_type": "code",
   "execution_count": 597,
   "metadata": {},
   "outputs": [
    {
     "name": "stderr",
     "output_type": "stream",
     "text": [
      "/Users/aleksilehmus/anaconda3/lib/python3.7/site-packages/sklearn/svm/base.py:196: FutureWarning: The default value of gamma will change from 'auto' to 'scale' in version 0.22 to account better for unscaled features. Set gamma explicitly to 'auto' or 'scale' to avoid this warning.\n",
      "  \"avoid this warning.\", FutureWarning)\n"
     ]
    },
    {
     "data": {
      "text/plain": [
       "SVC(C=1.0, cache_size=200, class_weight=None, coef0=0.0,\n",
       "  decision_function_shape='ovr', degree=3, gamma='auto_deprecated',\n",
       "  kernel='rbf', max_iter=-1, probability=False, random_state=None,\n",
       "  shrinking=True, tol=0.001, verbose=False)"
      ]
     },
     "execution_count": 597,
     "metadata": {},
     "output_type": "execute_result"
    }
   ],
   "source": [
    "model.fit(X = X_train, y = y_train)"
   ]
  },
  {
   "cell_type": "markdown",
   "metadata": {},
   "source": [
    "Ennustetaan kunnot X_testistä ja luetaan luokitteluraportti"
   ]
  },
  {
   "cell_type": "code",
   "execution_count": 598,
   "metadata": {},
   "outputs": [],
   "source": [
    "preds = model.predict(X_test)"
   ]
  },
  {
   "cell_type": "code",
   "execution_count": 599,
   "metadata": {
    "scrolled": true
   },
   "outputs": [
    {
     "name": "stdout",
     "output_type": "stream",
     "text": [
      "              precision    recall  f1-score   support\n",
      "\n",
      "           1       0.91      1.00      0.95       203\n",
      "           2       0.00      0.00      0.00        20\n",
      "           3       0.00      0.00      0.00         1\n",
      "\n",
      "   micro avg       0.91      0.91      0.91       224\n",
      "   macro avg       0.30      0.33      0.32       224\n",
      "weighted avg       0.82      0.91      0.86       224\n",
      "\n"
     ]
    },
    {
     "name": "stderr",
     "output_type": "stream",
     "text": [
      "/Users/aleksilehmus/anaconda3/lib/python3.7/site-packages/sklearn/metrics/classification.py:1143: UndefinedMetricWarning: Precision and F-score are ill-defined and being set to 0.0 in labels with no predicted samples.\n",
      "  'precision', 'predicted', average, warn_for)\n"
     ]
    }
   ],
   "source": [
    "print(classification_report(y_test, preds))"
   ]
  },
  {
   "cell_type": "code",
   "execution_count": 600,
   "metadata": {},
   "outputs": [
    {
     "name": "stdout",
     "output_type": "stream",
     "text": [
      "[[203   0   0]\n",
      " [ 20   0   0]\n",
      " [  1   0   0]]\n"
     ]
    }
   ],
   "source": [
    "print(confusion_matrix(y_test, preds))"
   ]
  },
  {
   "cell_type": "code",
   "execution_count": 601,
   "metadata": {},
   "outputs": [
    {
     "data": {
      "text/plain": [
       "array([1, 1, 1, 1, 1, 1, 1, 1, 1, 1, 1, 1, 1, 1, 1, 1, 1, 1, 1, 1, 1, 1,\n",
       "       1, 1, 1, 1, 1, 1, 1, 1, 1, 1, 1, 1, 1, 1, 1, 1, 1, 1, 1, 1, 1, 1,\n",
       "       1, 1, 1, 1, 1, 1, 1, 1, 1, 1, 1, 1, 1, 1, 1, 1, 1, 1, 1, 1, 1, 1,\n",
       "       1, 1, 1, 1, 1, 1, 1, 1, 1, 1, 1, 1, 1, 1, 1, 1, 1, 1, 1, 1, 1, 1,\n",
       "       1, 1, 1, 1, 1, 1, 1, 1, 1, 1, 1, 1, 1, 1, 1, 1, 1, 1, 1, 1, 1, 1,\n",
       "       1, 1, 1, 1, 1, 1])"
      ]
     },
     "execution_count": 601,
     "metadata": {},
     "output_type": "execute_result"
    }
   ],
   "source": [
    "preds_target = model.predict(data_target.drop(\"Kunto\", axis=1))\n",
    "preds_target"
   ]
  },
  {
   "cell_type": "markdown",
   "metadata": {},
   "source": [
    "Huomataan, että malli luokitteli kaikki tapaukset hyväkuntoisiksi (y=1). Tämä on kuitenkin ymmärrettävää, sillä hyväkuntoiset dominoi dataa, eikä huonokuntoisia esimerkiksi ollut harjoitusdatassa ollenkaan"
   ]
  },
  {
   "cell_type": "code",
   "execution_count": 602,
   "metadata": {},
   "outputs": [
    {
     "data": {
      "text/plain": [
       "648     1\n",
       "824     1\n",
       "485     2\n",
       "1036    1\n",
       "1102    1\n",
       "Name: Kunto, dtype: int64"
      ]
     },
     "execution_count": 602,
     "metadata": {},
     "output_type": "execute_result"
    }
   ],
   "source": [
    "y_train.head()"
   ]
  },
  {
   "cell_type": "markdown",
   "metadata": {},
   "source": [
    "Lisätään ennustetut kunto-arviot target-datasettiin"
   ]
  },
  {
   "cell_type": "code",
   "execution_count": 603,
   "metadata": {},
   "outputs": [
    {
     "name": "stderr",
     "output_type": "stream",
     "text": [
      "/Users/aleksilehmus/anaconda3/lib/python3.7/site-packages/ipykernel_launcher.py:1: SettingWithCopyWarning: \n",
      "A value is trying to be set on a copy of a slice from a DataFrame.\n",
      "Try using .loc[row_indexer,col_indexer] = value instead\n",
      "\n",
      "See the caveats in the documentation: http://pandas.pydata.org/pandas-docs/stable/indexing.html#indexing-view-versus-copy\n",
      "  \"\"\"Entry point for launching an IPython kernel.\n"
     ]
    }
   ],
   "source": [
    "data_target[\"Kunto\"] = preds_target"
   ]
  },
  {
   "cell_type": "markdown",
   "metadata": {},
   "source": [
    "Nyt hyväksytyllä luokittelijoilla ennustetaan oikean datasetin jokaiselta 0-kuntoriviltä muita ominaisuuksia tukeva kunto-arvio ja lisätään se kunnon paikalle."
   ]
  },
  {
   "cell_type": "code",
   "execution_count": 604,
   "metadata": {},
   "outputs": [],
   "source": [
    "def add_predictions(row):\n",
    "    if row[\"Kunto\"] == 0:\n",
    "        row[\"Kunto\"] = model.predict(pd.DataFrame(row[[\"Euroa per neliö\", \"Rakennusvuosi\", \"Hissi\", \"Kerros\"]]).T)[0]\n",
    "        \n",
    "    return row\n",
    "\n",
    "data = data.apply((lambda x: add_predictions(x)), axis=1)"
   ]
  },
  {
   "cell_type": "markdown",
   "metadata": {},
   "source": [
    "Nyt datassa ei ole enää tyhjiä kunto-arvioita"
   ]
  },
  {
   "cell_type": "code",
   "execution_count": 605,
   "metadata": {},
   "outputs": [
    {
     "data": {
      "text/plain": [
       "Counter({1: 1099, 2: 124, 3: 11})"
      ]
     },
     "execution_count": 605,
     "metadata": {},
     "output_type": "execute_result"
    }
   ],
   "source": [
    "Counter(data[\"Kunto\"])"
   ]
  },
  {
   "cell_type": "markdown",
   "metadata": {},
   "source": [
    "Kopioidaan uusi \"puhdas\" datasetti erilleen ja tehdään kuntoluokista dummy-arvot"
   ]
  },
  {
   "cell_type": "code",
   "execution_count": 606,
   "metadata": {},
   "outputs": [],
   "source": [
    "data_clean = data"
   ]
  },
  {
   "cell_type": "code",
   "execution_count": 607,
   "metadata": {},
   "outputs": [],
   "source": [
    "data_clean = pd.concat([data_clean, pd.get_dummies(data_clean[\"Kunto\"])], axis=1)\n",
    "data_clean.drop(\"Kunto\", axis=1, inplace=True)\n",
    "data_clean.rename(columns={1: \"Hyvä kunto\", 2: \"Tyyd. kunto\", 3: \"Huono kunto\"}, inplace=True)"
   ]
  },
  {
   "cell_type": "code",
   "execution_count": 608,
   "metadata": {},
   "outputs": [
    {
     "name": "stdout",
     "output_type": "stream",
     "text": [
      "<class 'pandas.core.frame.DataFrame'>\n",
      "Int64Index: 1234 entries, 1 to 1270\n",
      "Data columns (total 15 columns):\n",
      "Kaupunginosa       1234 non-null object\n",
      "Huoneisto          1234 non-null object\n",
      "Talotyyppi         1234 non-null object\n",
      "Neliömäärä         1234 non-null float64\n",
      "Velaton hinta      1234 non-null int64\n",
      "Euroa per neliö    1234 non-null int64\n",
      "Rakennusvuosi      1234 non-null int64\n",
      "Kerros             1234 non-null int64\n",
      "Hissi              1234 non-null int64\n",
      "Alin kerros        1234 non-null int64\n",
      "Keskikerros        1234 non-null int64\n",
      "Ylin kerros        1234 non-null int64\n",
      "Hyvä kunto         1234 non-null uint8\n",
      "Tyyd. kunto        1234 non-null uint8\n",
      "Huono kunto        1234 non-null uint8\n",
      "dtypes: float64(1), int64(8), object(3), uint8(3)\n",
      "memory usage: 128.9+ KB\n"
     ]
    }
   ],
   "source": [
    "data_clean.info()"
   ]
  },
  {
   "cell_type": "markdown",
   "metadata": {},
   "source": [
    "## Datan kuvaileminen"
   ]
  },
  {
   "cell_type": "code",
   "execution_count": 609,
   "metadata": {
    "scrolled": true
   },
   "outputs": [
    {
     "data": {
      "text/html": [
       "<div>\n",
       "<style scoped>\n",
       "    .dataframe tbody tr th:only-of-type {\n",
       "        vertical-align: middle;\n",
       "    }\n",
       "\n",
       "    .dataframe tbody tr th {\n",
       "        vertical-align: top;\n",
       "    }\n",
       "\n",
       "    .dataframe thead th {\n",
       "        text-align: right;\n",
       "    }\n",
       "</style>\n",
       "<table border=\"1\" class=\"dataframe\">\n",
       "  <thead>\n",
       "    <tr style=\"text-align: right;\">\n",
       "      <th></th>\n",
       "      <th>Kaupunginosa</th>\n",
       "      <th>Huoneisto</th>\n",
       "      <th>Talotyyppi</th>\n",
       "      <th>Neliömäärä</th>\n",
       "      <th>Velaton hinta</th>\n",
       "      <th>Euroa per neliö</th>\n",
       "      <th>Rakennusvuosi</th>\n",
       "      <th>Kerros</th>\n",
       "      <th>Hissi</th>\n",
       "      <th>Alin kerros</th>\n",
       "      <th>Keskikerros</th>\n",
       "      <th>Ylin kerros</th>\n",
       "      <th>Hyvä kunto</th>\n",
       "      <th>Tyyd. kunto</th>\n",
       "      <th>Huono kunto</th>\n",
       "    </tr>\n",
       "  </thead>\n",
       "  <tbody>\n",
       "    <tr>\n",
       "      <th>1</th>\n",
       "      <td>Ristinarkku</td>\n",
       "      <td>1h,k</td>\n",
       "      <td>kt</td>\n",
       "      <td>28.0</td>\n",
       "      <td>133800</td>\n",
       "      <td>4779</td>\n",
       "      <td>2019</td>\n",
       "      <td>4</td>\n",
       "      <td>1</td>\n",
       "      <td>0</td>\n",
       "      <td>1</td>\n",
       "      <td>0</td>\n",
       "      <td>1</td>\n",
       "      <td>0</td>\n",
       "      <td>0</td>\n",
       "    </tr>\n",
       "    <tr>\n",
       "      <th>2</th>\n",
       "      <td>Hervanta</td>\n",
       "      <td>1 h, keittokome...</td>\n",
       "      <td>kt</td>\n",
       "      <td>35.5</td>\n",
       "      <td>96000</td>\n",
       "      <td>2704</td>\n",
       "      <td>1985</td>\n",
       "      <td>1</td>\n",
       "      <td>1</td>\n",
       "      <td>1</td>\n",
       "      <td>0</td>\n",
       "      <td>0</td>\n",
       "      <td>1</td>\n",
       "      <td>0</td>\n",
       "      <td>0</td>\n",
       "    </tr>\n",
       "    <tr>\n",
       "      <th>5</th>\n",
       "      <td>Tesoma</td>\n",
       "      <td>1H+KT+parvi 5,5 m²</td>\n",
       "      <td>kt</td>\n",
       "      <td>20.5</td>\n",
       "      <td>118000</td>\n",
       "      <td>5756</td>\n",
       "      <td>2018</td>\n",
       "      <td>6</td>\n",
       "      <td>1</td>\n",
       "      <td>0</td>\n",
       "      <td>0</td>\n",
       "      <td>1</td>\n",
       "      <td>1</td>\n",
       "      <td>0</td>\n",
       "      <td>0</td>\n",
       "    </tr>\n",
       "    <tr>\n",
       "      <th>6</th>\n",
       "      <td>Niemenranta</td>\n",
       "      <td>1h,tk,alk</td>\n",
       "      <td>kt</td>\n",
       "      <td>33.0</td>\n",
       "      <td>139000</td>\n",
       "      <td>4212</td>\n",
       "      <td>2015</td>\n",
       "      <td>6</td>\n",
       "      <td>1</td>\n",
       "      <td>0</td>\n",
       "      <td>1</td>\n",
       "      <td>0</td>\n",
       "      <td>1</td>\n",
       "      <td>0</td>\n",
       "      <td>0</td>\n",
       "    </tr>\n",
       "    <tr>\n",
       "      <th>7</th>\n",
       "      <td>Tesoma</td>\n",
       "      <td>h, kt, kph, las...</td>\n",
       "      <td>kt</td>\n",
       "      <td>23.0</td>\n",
       "      <td>96000</td>\n",
       "      <td>4174</td>\n",
       "      <td>2018</td>\n",
       "      <td>4</td>\n",
       "      <td>1</td>\n",
       "      <td>0</td>\n",
       "      <td>1</td>\n",
       "      <td>0</td>\n",
       "      <td>1</td>\n",
       "      <td>0</td>\n",
       "      <td>0</td>\n",
       "    </tr>\n",
       "  </tbody>\n",
       "</table>\n",
       "</div>"
      ],
      "text/plain": [
       "  Kaupunginosa           Huoneisto Talotyyppi  Neliömäärä  Velaton hinta  \\\n",
       "1  Ristinarkku                1h,k         kt        28.0         133800   \n",
       "2     Hervanta  1 h, keittokome...         kt        35.5          96000   \n",
       "5       Tesoma  1H+KT+parvi 5,5 m²         kt        20.5         118000   \n",
       "6  Niemenranta           1h,tk,alk         kt        33.0         139000   \n",
       "7       Tesoma  h, kt, kph, las...         kt        23.0          96000   \n",
       "\n",
       "   Euroa per neliö  Rakennusvuosi  Kerros  Hissi  Alin kerros  Keskikerros  \\\n",
       "1             4779           2019       4      1            0            1   \n",
       "2             2704           1985       1      1            1            0   \n",
       "5             5756           2018       6      1            0            0   \n",
       "6             4212           2015       6      1            0            1   \n",
       "7             4174           2018       4      1            0            1   \n",
       "\n",
       "   Ylin kerros  Hyvä kunto  Tyyd. kunto  Huono kunto  \n",
       "1            0           1            0            0  \n",
       "2            0           1            0            0  \n",
       "5            1           1            0            0  \n",
       "6            0           1            0            0  \n",
       "7            0           1            0            0  "
      ]
     },
     "execution_count": 609,
     "metadata": {},
     "output_type": "execute_result"
    }
   ],
   "source": [
    "data_clean.head()"
   ]
  },
  {
   "cell_type": "markdown",
   "metadata": {},
   "source": [
    "Varmistetaan, että datan lukuarvot ovat järkeviä, eivätkä sisällä mallia sekoittavia outliereita."
   ]
  },
  {
   "cell_type": "code",
   "execution_count": 610,
   "metadata": {
    "scrolled": false
   },
   "outputs": [
    {
     "data": {
      "text/html": [
       "<div>\n",
       "<style scoped>\n",
       "    .dataframe tbody tr th:only-of-type {\n",
       "        vertical-align: middle;\n",
       "    }\n",
       "\n",
       "    .dataframe tbody tr th {\n",
       "        vertical-align: top;\n",
       "    }\n",
       "\n",
       "    .dataframe thead th {\n",
       "        text-align: right;\n",
       "    }\n",
       "</style>\n",
       "<table border=\"1\" class=\"dataframe\">\n",
       "  <thead>\n",
       "    <tr style=\"text-align: right;\">\n",
       "      <th></th>\n",
       "      <th>Neliömäärä</th>\n",
       "      <th>Velaton hinta</th>\n",
       "      <th>Euroa per neliö</th>\n",
       "      <th>Rakennusvuosi</th>\n",
       "      <th>Kerros</th>\n",
       "      <th>Hissi</th>\n",
       "      <th>Alin kerros</th>\n",
       "      <th>Keskikerros</th>\n",
       "      <th>Ylin kerros</th>\n",
       "      <th>Hyvä kunto</th>\n",
       "      <th>Tyyd. kunto</th>\n",
       "      <th>Huono kunto</th>\n",
       "    </tr>\n",
       "  </thead>\n",
       "  <tbody>\n",
       "    <tr>\n",
       "      <th>count</th>\n",
       "      <td>1234.000000</td>\n",
       "      <td>1234.000000</td>\n",
       "      <td>1234.000000</td>\n",
       "      <td>1234.000000</td>\n",
       "      <td>1234.000000</td>\n",
       "      <td>1234.000000</td>\n",
       "      <td>1234.000000</td>\n",
       "      <td>1234.000000</td>\n",
       "      <td>1234.000000</td>\n",
       "      <td>1234.000000</td>\n",
       "      <td>1234.000000</td>\n",
       "      <td>1234.000000</td>\n",
       "    </tr>\n",
       "    <tr>\n",
       "      <th>mean</th>\n",
       "      <td>47.782334</td>\n",
       "      <td>151613.944895</td>\n",
       "      <td>3377.700162</td>\n",
       "      <td>1993.484603</td>\n",
       "      <td>3.322528</td>\n",
       "      <td>0.760940</td>\n",
       "      <td>0.193679</td>\n",
       "      <td>0.626418</td>\n",
       "      <td>0.179903</td>\n",
       "      <td>0.890600</td>\n",
       "      <td>0.100486</td>\n",
       "      <td>0.008914</td>\n",
       "    </tr>\n",
       "    <tr>\n",
       "      <th>std</th>\n",
       "      <td>18.935105</td>\n",
       "      <td>71867.737562</td>\n",
       "      <td>1219.916695</td>\n",
       "      <td>27.160993</td>\n",
       "      <td>1.969688</td>\n",
       "      <td>0.426682</td>\n",
       "      <td>0.395341</td>\n",
       "      <td>0.483951</td>\n",
       "      <td>0.384262</td>\n",
       "      <td>0.312267</td>\n",
       "      <td>0.300769</td>\n",
       "      <td>0.094031</td>\n",
       "    </tr>\n",
       "    <tr>\n",
       "      <th>min</th>\n",
       "      <td>12.500000</td>\n",
       "      <td>1800.000000</td>\n",
       "      <td>144.000000</td>\n",
       "      <td>1899.000000</td>\n",
       "      <td>-1.000000</td>\n",
       "      <td>0.000000</td>\n",
       "      <td>0.000000</td>\n",
       "      <td>0.000000</td>\n",
       "      <td>0.000000</td>\n",
       "      <td>0.000000</td>\n",
       "      <td>0.000000</td>\n",
       "      <td>0.000000</td>\n",
       "    </tr>\n",
       "    <tr>\n",
       "      <th>25%</th>\n",
       "      <td>31.000000</td>\n",
       "      <td>107038.250000</td>\n",
       "      <td>2500.000000</td>\n",
       "      <td>1970.000000</td>\n",
       "      <td>2.000000</td>\n",
       "      <td>1.000000</td>\n",
       "      <td>0.000000</td>\n",
       "      <td>0.000000</td>\n",
       "      <td>0.000000</td>\n",
       "      <td>1.000000</td>\n",
       "      <td>0.000000</td>\n",
       "      <td>0.000000</td>\n",
       "    </tr>\n",
       "    <tr>\n",
       "      <th>50%</th>\n",
       "      <td>45.500000</td>\n",
       "      <td>135475.000000</td>\n",
       "      <td>3413.500000</td>\n",
       "      <td>2005.000000</td>\n",
       "      <td>3.000000</td>\n",
       "      <td>1.000000</td>\n",
       "      <td>0.000000</td>\n",
       "      <td>1.000000</td>\n",
       "      <td>0.000000</td>\n",
       "      <td>1.000000</td>\n",
       "      <td>0.000000</td>\n",
       "      <td>0.000000</td>\n",
       "    </tr>\n",
       "    <tr>\n",
       "      <th>75%</th>\n",
       "      <td>62.000000</td>\n",
       "      <td>175000.000000</td>\n",
       "      <td>4187.000000</td>\n",
       "      <td>2018.000000</td>\n",
       "      <td>5.000000</td>\n",
       "      <td>1.000000</td>\n",
       "      <td>0.000000</td>\n",
       "      <td>1.000000</td>\n",
       "      <td>0.000000</td>\n",
       "      <td>1.000000</td>\n",
       "      <td>0.000000</td>\n",
       "      <td>0.000000</td>\n",
       "    </tr>\n",
       "    <tr>\n",
       "      <th>max</th>\n",
       "      <td>123.000000</td>\n",
       "      <td>715000.000000</td>\n",
       "      <td>7395.000000</td>\n",
       "      <td>2020.000000</td>\n",
       "      <td>16.000000</td>\n",
       "      <td>1.000000</td>\n",
       "      <td>1.000000</td>\n",
       "      <td>1.000000</td>\n",
       "      <td>1.000000</td>\n",
       "      <td>1.000000</td>\n",
       "      <td>1.000000</td>\n",
       "      <td>1.000000</td>\n",
       "    </tr>\n",
       "  </tbody>\n",
       "</table>\n",
       "</div>"
      ],
      "text/plain": [
       "        Neliömäärä  Velaton hinta  Euroa per neliö  Rakennusvuosi  \\\n",
       "count  1234.000000    1234.000000      1234.000000    1234.000000   \n",
       "mean     47.782334  151613.944895      3377.700162    1993.484603   \n",
       "std      18.935105   71867.737562      1219.916695      27.160993   \n",
       "min      12.500000    1800.000000       144.000000    1899.000000   \n",
       "25%      31.000000  107038.250000      2500.000000    1970.000000   \n",
       "50%      45.500000  135475.000000      3413.500000    2005.000000   \n",
       "75%      62.000000  175000.000000      4187.000000    2018.000000   \n",
       "max     123.000000  715000.000000      7395.000000    2020.000000   \n",
       "\n",
       "            Kerros        Hissi  Alin kerros  Keskikerros  Ylin kerros  \\\n",
       "count  1234.000000  1234.000000  1234.000000  1234.000000  1234.000000   \n",
       "mean      3.322528     0.760940     0.193679     0.626418     0.179903   \n",
       "std       1.969688     0.426682     0.395341     0.483951     0.384262   \n",
       "min      -1.000000     0.000000     0.000000     0.000000     0.000000   \n",
       "25%       2.000000     1.000000     0.000000     0.000000     0.000000   \n",
       "50%       3.000000     1.000000     0.000000     1.000000     0.000000   \n",
       "75%       5.000000     1.000000     0.000000     1.000000     0.000000   \n",
       "max      16.000000     1.000000     1.000000     1.000000     1.000000   \n",
       "\n",
       "        Hyvä kunto  Tyyd. kunto  Huono kunto  \n",
       "count  1234.000000  1234.000000  1234.000000  \n",
       "mean      0.890600     0.100486     0.008914  \n",
       "std       0.312267     0.300769     0.094031  \n",
       "min       0.000000     0.000000     0.000000  \n",
       "25%       1.000000     0.000000     0.000000  \n",
       "50%       1.000000     0.000000     0.000000  \n",
       "75%       1.000000     0.000000     0.000000  \n",
       "max       1.000000     1.000000     1.000000  "
      ]
     },
     "execution_count": 610,
     "metadata": {},
     "output_type": "execute_result"
    }
   ],
   "source": [
    "data_clean.describe()"
   ]
  },
  {
   "cell_type": "markdown",
   "metadata": {},
   "source": [
    "Tarkistetaan arvojen jakaumat"
   ]
  },
  {
   "cell_type": "code",
   "execution_count": 611,
   "metadata": {},
   "outputs": [
    {
     "data": {
      "image/png": "[encoded data removed]",
      "text/plain": [
       "<Figure size 720x720 with 12 Axes>"
      ]
     },
     "metadata": {
      "needs_background": "light"
     },
     "output_type": "display_data"
    }
   ],
   "source": [
    "data.hist(bins=50, figsize=(10,10))\n",
    "plt.show()"
   ]
  },
  {
   "cell_type": "markdown",
   "metadata": {},
   "source": [
    "Lasketaan ja visualisoidaan datan piirteiden vaikutukset velattomaan hintaan"
   ]
  },
  {
   "cell_type": "code",
   "execution_count": 612,
   "metadata": {},
   "outputs": [
    {
     "data": {
      "image/png": "[encoded data removed]",
      "text/plain": [
       "<Figure size 576x576 with 25 Axes>"
      ]
     },
     "metadata": {
      "needs_background": "light"
     },
     "output_type": "display_data"
    }
   ],
   "source": [
    "scatter_feats = data[[\"Velaton hinta\", \"Neliömäärä\", \"Rakennusvuosi\", \"Kunto\", \"Hissi\"]]\n",
    "pd.plotting.scatter_matrix(scatter_feats, alpha=0.2, figsize=(8, 8), diagonal='kde')\n",
    "plt.show()"
   ]
  },
  {
   "cell_type": "code",
   "execution_count": 613,
   "metadata": {},
   "outputs": [
    {
     "data": {
      "text/html": [
       "<div>\n",
       "<style scoped>\n",
       "    .dataframe tbody tr th:only-of-type {\n",
       "        vertical-align: middle;\n",
       "    }\n",
       "\n",
       "    .dataframe tbody tr th {\n",
       "        vertical-align: top;\n",
       "    }\n",
       "\n",
       "    .dataframe thead th {\n",
       "        text-align: right;\n",
       "    }\n",
       "</style>\n",
       "<table border=\"1\" class=\"dataframe\">\n",
       "  <thead>\n",
       "    <tr style=\"text-align: right;\">\n",
       "      <th></th>\n",
       "      <th>Velaton hinta</th>\n",
       "      <th>Neliömäärä</th>\n",
       "      <th>Rakennusvuosi</th>\n",
       "      <th>Kunto</th>\n",
       "      <th>Hissi</th>\n",
       "    </tr>\n",
       "  </thead>\n",
       "  <tbody>\n",
       "    <tr>\n",
       "      <th>Velaton hinta</th>\n",
       "      <td>1.000000</td>\n",
       "      <td>0.566950</td>\n",
       "      <td>0.043445</td>\n",
       "      <td>-0.160187</td>\n",
       "      <td>0.168757</td>\n",
       "    </tr>\n",
       "    <tr>\n",
       "      <th>Neliömäärä</th>\n",
       "      <td>0.566950</td>\n",
       "      <td>1.000000</td>\n",
       "      <td>-0.360603</td>\n",
       "      <td>0.050948</td>\n",
       "      <td>-0.066134</td>\n",
       "    </tr>\n",
       "    <tr>\n",
       "      <th>Rakennusvuosi</th>\n",
       "      <td>0.043445</td>\n",
       "      <td>-0.360603</td>\n",
       "      <td>1.000000</td>\n",
       "      <td>-0.336898</td>\n",
       "      <td>0.306798</td>\n",
       "    </tr>\n",
       "    <tr>\n",
       "      <th>Kunto</th>\n",
       "      <td>-0.160187</td>\n",
       "      <td>0.050948</td>\n",
       "      <td>-0.336898</td>\n",
       "      <td>1.000000</td>\n",
       "      <td>-0.065767</td>\n",
       "    </tr>\n",
       "    <tr>\n",
       "      <th>Hissi</th>\n",
       "      <td>0.168757</td>\n",
       "      <td>-0.066134</td>\n",
       "      <td>0.306798</td>\n",
       "      <td>-0.065767</td>\n",
       "      <td>1.000000</td>\n",
       "    </tr>\n",
       "  </tbody>\n",
       "</table>\n",
       "</div>"
      ],
      "text/plain": [
       "               Velaton hinta  Neliömäärä  Rakennusvuosi     Kunto     Hissi\n",
       "Velaton hinta       1.000000    0.566950       0.043445 -0.160187  0.168757\n",
       "Neliömäärä          0.566950    1.000000      -0.360603  0.050948 -0.066134\n",
       "Rakennusvuosi       0.043445   -0.360603       1.000000 -0.336898  0.306798\n",
       "Kunto              -0.160187    0.050948      -0.336898  1.000000 -0.065767\n",
       "Hissi               0.168757   -0.066134       0.306798 -0.065767  1.000000"
      ]
     },
     "execution_count": 613,
     "metadata": {},
     "output_type": "execute_result"
    }
   ],
   "source": [
    "scatter_feats.corr(method='pearson')"
   ]
  },
  {
   "cell_type": "code",
   "execution_count": 614,
   "metadata": {},
   "outputs": [
    {
     "data": {
      "image/png": "[encoded data removed]",
      "text/plain": [
       "<Figure size 576x576 with 25 Axes>"
      ]
     },
     "metadata": {
      "needs_background": "light"
     },
     "output_type": "display_data"
    }
   ],
   "source": [
    "scatter_feats2 = data[[\"Velaton hinta\", \"Kerros\", \"Alin kerros\", \"Keskikerros\", \"Ylin kerros\"]]\n",
    "pd.plotting.scatter_matrix(scatter_feats2, alpha=0.2, figsize=(8, 8), diagonal='kde')\n",
    "plt.show()"
   ]
  },
  {
   "cell_type": "code",
   "execution_count": 615,
   "metadata": {},
   "outputs": [
    {
     "data": {
      "text/html": [
       "<div>\n",
       "<style scoped>\n",
       "    .dataframe tbody tr th:only-of-type {\n",
       "        vertical-align: middle;\n",
       "    }\n",
       "\n",
       "    .dataframe tbody tr th {\n",
       "        vertical-align: top;\n",
       "    }\n",
       "\n",
       "    .dataframe thead th {\n",
       "        text-align: right;\n",
       "    }\n",
       "</style>\n",
       "<table border=\"1\" class=\"dataframe\">\n",
       "  <thead>\n",
       "    <tr style=\"text-align: right;\">\n",
       "      <th></th>\n",
       "      <th>Velaton hinta</th>\n",
       "      <th>Kerros</th>\n",
       "      <th>Alin kerros</th>\n",
       "      <th>Keskikerros</th>\n",
       "      <th>Ylin kerros</th>\n",
       "    </tr>\n",
       "  </thead>\n",
       "  <tbody>\n",
       "    <tr>\n",
       "      <th>Velaton hinta</th>\n",
       "      <td>1.000000</td>\n",
       "      <td>0.193513</td>\n",
       "      <td>-0.127290</td>\n",
       "      <td>0.112853</td>\n",
       "      <td>-0.011171</td>\n",
       "    </tr>\n",
       "    <tr>\n",
       "      <th>Kerros</th>\n",
       "      <td>0.193513</td>\n",
       "      <td>1.000000</td>\n",
       "      <td>-0.588547</td>\n",
       "      <td>0.263487</td>\n",
       "      <td>0.273672</td>\n",
       "    </tr>\n",
       "    <tr>\n",
       "      <th>Alin kerros</th>\n",
       "      <td>-0.127290</td>\n",
       "      <td>-0.588547</td>\n",
       "      <td>1.000000</td>\n",
       "      <td>-0.634639</td>\n",
       "      <td>-0.229548</td>\n",
       "    </tr>\n",
       "    <tr>\n",
       "      <th>Keskikerros</th>\n",
       "      <td>0.112853</td>\n",
       "      <td>0.263487</td>\n",
       "      <td>-0.634639</td>\n",
       "      <td>1.000000</td>\n",
       "      <td>-0.606493</td>\n",
       "    </tr>\n",
       "    <tr>\n",
       "      <th>Ylin kerros</th>\n",
       "      <td>-0.011171</td>\n",
       "      <td>0.273672</td>\n",
       "      <td>-0.229548</td>\n",
       "      <td>-0.606493</td>\n",
       "      <td>1.000000</td>\n",
       "    </tr>\n",
       "  </tbody>\n",
       "</table>\n",
       "</div>"
      ],
      "text/plain": [
       "               Velaton hinta    Kerros  Alin kerros  Keskikerros  Ylin kerros\n",
       "Velaton hinta       1.000000  0.193513    -0.127290     0.112853    -0.011171\n",
       "Kerros              0.193513  1.000000    -0.588547     0.263487     0.273672\n",
       "Alin kerros        -0.127290 -0.588547     1.000000    -0.634639    -0.229548\n",
       "Keskikerros         0.112853  0.263487    -0.634639     1.000000    -0.606493\n",
       "Ylin kerros        -0.011171  0.273672    -0.229548    -0.606493     1.000000"
      ]
     },
     "execution_count": 615,
     "metadata": {},
     "output_type": "execute_result"
    }
   ],
   "source": [
    "scatter_feats2.corr(method='pearson')"
   ]
  },
  {
   "cell_type": "code",
   "execution_count": 616,
   "metadata": {},
   "outputs": [
    {
     "data": {
      "text/html": [
       "<div>\n",
       "<style scoped>\n",
       "    .dataframe tbody tr th:only-of-type {\n",
       "        vertical-align: middle;\n",
       "    }\n",
       "\n",
       "    .dataframe tbody tr th {\n",
       "        vertical-align: top;\n",
       "    }\n",
       "\n",
       "    .dataframe thead th {\n",
       "        text-align: right;\n",
       "    }\n",
       "</style>\n",
       "<table border=\"1\" class=\"dataframe\">\n",
       "  <thead>\n",
       "    <tr style=\"text-align: right;\">\n",
       "      <th></th>\n",
       "      <th>Velaton hinta</th>\n",
       "      <th>Hyvä kunto</th>\n",
       "      <th>Tyyd. kunto</th>\n",
       "      <th>Huono kunto</th>\n",
       "    </tr>\n",
       "  </thead>\n",
       "  <tbody>\n",
       "    <tr>\n",
       "      <th>Velaton hinta</th>\n",
       "      <td>1.000000</td>\n",
       "      <td>0.166056</td>\n",
       "      <td>-0.158597</td>\n",
       "      <td>-0.044166</td>\n",
       "    </tr>\n",
       "    <tr>\n",
       "      <th>Hyvä kunto</th>\n",
       "      <td>0.166056</td>\n",
       "      <td>1.000000</td>\n",
       "      <td>-0.953633</td>\n",
       "      <td>-0.270592</td>\n",
       "    </tr>\n",
       "    <tr>\n",
       "      <th>Tyyd. kunto</th>\n",
       "      <td>-0.158597</td>\n",
       "      <td>-0.953633</td>\n",
       "      <td>1.000000</td>\n",
       "      <td>-0.031698</td>\n",
       "    </tr>\n",
       "    <tr>\n",
       "      <th>Huono kunto</th>\n",
       "      <td>-0.044166</td>\n",
       "      <td>-0.270592</td>\n",
       "      <td>-0.031698</td>\n",
       "      <td>1.000000</td>\n",
       "    </tr>\n",
       "  </tbody>\n",
       "</table>\n",
       "</div>"
      ],
      "text/plain": [
       "               Velaton hinta  Hyvä kunto  Tyyd. kunto  Huono kunto\n",
       "Velaton hinta       1.000000    0.166056    -0.158597    -0.044166\n",
       "Hyvä kunto          0.166056    1.000000    -0.953633    -0.270592\n",
       "Tyyd. kunto        -0.158597   -0.953633     1.000000    -0.031698\n",
       "Huono kunto        -0.044166   -0.270592    -0.031698     1.000000"
      ]
     },
     "execution_count": 616,
     "metadata": {},
     "output_type": "execute_result"
    }
   ],
   "source": [
    "data_clean[[\"Velaton hinta\", \"Hyvä kunto\", \"Tyyd. kunto\", \"Huono kunto\"]].corr(method='pearson')"
   ]
  },
  {
   "cell_type": "markdown",
   "metadata": {},
   "source": [
    "Huomataan, että *neliömäärä* vaikuttaa eniten velattomaan hintaan. Myös *hissi*, *kunto* ja *kerros* vaikuttavat jonkin verran. Kattohuoneisto ja Rakennusvuosi vaikuttavat yllättävän vähän"
   ]
  },
  {
   "cell_type": "markdown",
   "metadata": {},
   "source": [
    "## Hintojen ennustaminen"
   ]
  },
  {
   "cell_type": "markdown",
   "metadata": {},
   "source": [
    "Valitaan ennustemalleiksi lineaarinen regressio sekä neuroverkko"
   ]
  },
  {
   "cell_type": "code",
   "execution_count": 618,
   "metadata": {},
   "outputs": [],
   "source": [
    "model_LR = LinearRegression()"
   ]
  },
  {
   "cell_type": "code",
   "execution_count": 619,
   "metadata": {},
   "outputs": [],
   "source": [
    "model_MLP = MLPRegressor(hidden_layer_sizes=(100, 100, 100))"
   ]
  },
  {
   "cell_type": "markdown",
   "metadata": {},
   "source": [
    "Valitaan ja normalisoidaan muuttujat ja ennustettava arvo (velaton hinta)"
   ]
  },
  {
   "cell_type": "code",
   "execution_count": 620,
   "metadata": {},
   "outputs": [],
   "source": [
    "X = data_clean.drop(\n",
    "    [\"Kaupunginosa\", \"Huoneisto\", \"Talotyyppi\", \"Velaton hinta\", \"Euroa per neliö\", \"Kerros\"], axis=1)\n",
    "X_norm = normalize(X)\n",
    "y = data_clean[\"Velaton hinta\"]"
   ]
  },
  {
   "cell_type": "code",
   "execution_count": 624,
   "metadata": {},
   "outputs": [],
   "source": [
    "X_train, X_test, y_train, y_test = train_test_split(X_norm, y, test_size=0.20, random_state=42)"
   ]
  },
  {
   "cell_type": "markdown",
   "metadata": {},
   "source": [
    "Fitataan mallit harjoitusdatalla"
   ]
  },
  {
   "cell_type": "code",
   "execution_count": 625,
   "metadata": {},
   "outputs": [
    {
     "data": {
      "text/plain": [
       "LinearRegression(copy_X=True, fit_intercept=True, n_jobs=None,\n",
       "         normalize=False)"
      ]
     },
     "execution_count": 625,
     "metadata": {},
     "output_type": "execute_result"
    }
   ],
   "source": [
    "model_LR.fit(X_train, y_train)"
   ]
  },
  {
   "cell_type": "code",
   "execution_count": 626,
   "metadata": {},
   "outputs": [
    {
     "name": "stderr",
     "output_type": "stream",
     "text": [
      "/Users/aleksilehmus/anaconda3/lib/python3.7/site-packages/sklearn/neural_network/multilayer_perceptron.py:562: ConvergenceWarning: Stochastic Optimizer: Maximum iterations (200) reached and the optimization hasn't converged yet.\n",
      "  % self.max_iter, ConvergenceWarning)\n"
     ]
    },
    {
     "data": {
      "text/plain": [
       "MLPRegressor(activation='relu', alpha=0.0001, batch_size='auto', beta_1=0.9,\n",
       "       beta_2=0.999, early_stopping=False, epsilon=1e-08,\n",
       "       hidden_layer_sizes=(100, 100, 100), learning_rate='constant',\n",
       "       learning_rate_init=0.001, max_iter=200, momentum=0.9,\n",
       "       n_iter_no_change=10, nesterovs_momentum=True, power_t=0.5,\n",
       "       random_state=None, shuffle=True, solver='adam', tol=0.0001,\n",
       "       validation_fraction=0.1, verbose=False, warm_start=False)"
      ]
     },
     "execution_count": 626,
     "metadata": {},
     "output_type": "execute_result"
    }
   ],
   "source": [
    "model_MLP.fit(X_train, y_train)"
   ]
  },
  {
   "cell_type": "code",
   "execution_count": 627,
   "metadata": {},
   "outputs": [],
   "source": [
    "preds_LR = model_LR.predict(X_test)"
   ]
  },
  {
   "cell_type": "code",
   "execution_count": 628,
   "metadata": {},
   "outputs": [],
   "source": [
    "preds_MLP = model_MLP.predict(X_test)"
   ]
  },
  {
   "cell_type": "markdown",
   "metadata": {},
   "source": [
    "Arvioidaan ennustemallin suorituskykyä plottaamalla"
   ]
  },
  {
   "cell_type": "code",
   "execution_count": 630,
   "metadata": {},
   "outputs": [
    {
     "data": {
      "text/plain": [
       "<matplotlib.collections.PathCollection at 0x1a2e9b6278>"
      ]
     },
     "execution_count": 630,
     "metadata": {},
     "output_type": "execute_result"
    },
    {
     "data": {
      "image/png": "[encoded data removed]",
      "text/plain": [
       "<Figure size 432x288 with 1 Axes>"
      ]
     },
     "metadata": {
      "needs_background": "light"
     },
     "output_type": "display_data"
    }
   ],
   "source": [
    "plt.scatter(preds_LR, y_test)"
   ]
  },
  {
   "cell_type": "code",
   "execution_count": 631,
   "metadata": {},
   "outputs": [
    {
     "data": {
      "text/plain": [
       "<matplotlib.collections.PathCollection at 0x1a2cf77160>"
      ]
     },
     "execution_count": 631,
     "metadata": {},
     "output_type": "execute_result"
    },
    {
     "data": {
      "image/png": "[encoded data removed]",
      "text/plain": [
       "<Figure size 432x288 with 1 Axes>"
      ]
     },
     "metadata": {
      "needs_background": "light"
     },
     "output_type": "display_data"
    }
   ],
   "source": [
    "plt.scatter(preds_MLP, y_test)"
   ]
  },
  {
   "cell_type": "markdown",
   "metadata": {},
   "source": [
    "## Hintalaskuri"
   ]
  },
  {
   "cell_type": "markdown",
   "metadata": {},
   "source": [
    "Syötä myytävän asunnon parametrit alle, niin mallit laskevat historiadataan perustuvan reilun hinnan"
   ]
  },
  {
   "cell_type": "code",
   "execution_count": 653,
   "metadata": {},
   "outputs": [],
   "source": [
    "Neliömäärä = 47 \n",
    "Rakennusvuosi = 1950\n",
    "# 1 jos on, 0 jos ei\n",
    "Hissi = 1 \n",
    "Alin_kerros = 0\n",
    "Keskikerros = 1\n",
    "Ylin_kerros = 0\n",
    "Hyvä_kunto = 1\n",
    "Tyyd_kunto = 0\n",
    "Huono_kunto = 0"
   ]
  },
  {
   "cell_type": "code",
   "execution_count": 654,
   "metadata": {},
   "outputs": [],
   "source": [
    "temp = normalize([Neliömäärä, Rakennusvuosi, Hissi, Alin_kerros, Keskikerros,\n",
    "                  Ylin_kerros, Hyvä_kunto, Tyyd_kunto, Huono_kunto])"
   ]
  },
  {
   "cell_type": "code",
   "execution_count": 658,
   "metadata": {},
   "outputs": [
    {
     "name": "stdout",
     "output_type": "stream",
     "text": [
      "175994.45603694537\n"
     ]
    }
   ],
   "source": [
    "print(model_LR.predict([temp])[0])"
   ]
  },
  {
   "cell_type": "code",
   "execution_count": 659,
   "metadata": {},
   "outputs": [
    {
     "name": "stdout",
     "output_type": "stream",
     "text": [
      "203907.85517597126\n"
     ]
    }
   ],
   "source": [
    "print(model_MLP.predict([temp])[0])"
   ]
  }
 ],
 "metadata": {
  "kernelspec": {
   "display_name": "Python 3",
   "language": "python",
   "name": "python3"
  },
  "language_info": {
   "codemirror_mode": {
    "name": "ipython",
    "version": 3
   },
   "file_extension": ".py",
   "mimetype": "text/x-python",
   "name": "python",
   "nbconvert_exporter": "python",
   "pygments_lexer": "ipython3",
   "version": "3.7.3"
  }
 },
 "nbformat": 4,
 "nbformat_minor": 2
}
